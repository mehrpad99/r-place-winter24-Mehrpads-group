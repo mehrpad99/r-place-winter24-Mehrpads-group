{
 "cells": [
  {
   "cell_type": "code",
   "execution_count": 12,
   "id": "701edf79-39a4-4b96-9b91-3888c6eb821f",
   "metadata": {},
   "outputs": [
    {
     "ename": "AttributeError",
     "evalue": "partially initialized module 'pandas' has no attribute 'core' (most likely due to a circular import)",
     "output_type": "error",
     "traceback": [
      "\u001b[0;31m---------------------------------------------------------------------------\u001b[0m",
      "\u001b[0;31mAttributeError\u001b[0m                            Traceback (most recent call last)",
      "Cell \u001b[0;32mIn[12], line 2\u001b[0m\n\u001b[1;32m      1\u001b[0m \u001b[38;5;28;01mimport\u001b[39;00m \u001b[38;5;21;01mboto3\u001b[39;00m\n\u001b[0;32m----> 2\u001b[0m \u001b[38;5;28;01mimport\u001b[39;00m \u001b[38;5;21;01mpandas\u001b[39;00m \u001b[38;5;28;01mas\u001b[39;00m \u001b[38;5;21;01mpd\u001b[39;00m\n\u001b[1;32m      3\u001b[0m \u001b[38;5;28;01mfrom\u001b[39;00m \u001b[38;5;21;01msagemaker\u001b[39;00m \u001b[38;5;28;01mimport\u001b[39;00m get_execution_role\n\u001b[1;32m      5\u001b[0m \u001b[38;5;66;03m# Correctly define your bucket name and object key\u001b[39;00m\n",
      "File \u001b[0;32m~/anaconda3/envs/pytorch_p310/lib/python3.10/site-packages/pandas/__init__.py:138\u001b[0m\n\u001b[1;32m    120\u001b[0m \u001b[38;5;28;01mfrom\u001b[39;00m \u001b[38;5;21;01mpandas\u001b[39;00m\u001b[38;5;21;01m.\u001b[39;00m\u001b[38;5;21;01mcore\u001b[39;00m\u001b[38;5;21;01m.\u001b[39;00m\u001b[38;5;21;01mreshape\u001b[39;00m\u001b[38;5;21;01m.\u001b[39;00m\u001b[38;5;21;01mapi\u001b[39;00m \u001b[38;5;28;01mimport\u001b[39;00m (\n\u001b[1;32m    121\u001b[0m     concat,\n\u001b[1;32m    122\u001b[0m     lreshape,\n\u001b[0;32m   (...)\u001b[0m\n\u001b[1;32m    134\u001b[0m     qcut,\n\u001b[1;32m    135\u001b[0m )\n\u001b[1;32m    137\u001b[0m \u001b[38;5;28;01mfrom\u001b[39;00m \u001b[38;5;21;01mpandas\u001b[39;00m \u001b[38;5;28;01mimport\u001b[39;00m api, arrays, errors, io, plotting, tseries\n\u001b[0;32m--> 138\u001b[0m \u001b[38;5;28;01mfrom\u001b[39;00m \u001b[38;5;21;01mpandas\u001b[39;00m \u001b[38;5;28;01mimport\u001b[39;00m testing  \u001b[38;5;66;03m# noqa:PDF015\u001b[39;00m\n\u001b[1;32m    139\u001b[0m \u001b[38;5;28;01mfrom\u001b[39;00m \u001b[38;5;21;01mpandas\u001b[39;00m\u001b[38;5;21;01m.\u001b[39;00m\u001b[38;5;21;01mutil\u001b[39;00m\u001b[38;5;21;01m.\u001b[39;00m\u001b[38;5;21;01m_print_versions\u001b[39;00m \u001b[38;5;28;01mimport\u001b[39;00m show_versions\n\u001b[1;32m    141\u001b[0m \u001b[38;5;28;01mfrom\u001b[39;00m \u001b[38;5;21;01mpandas\u001b[39;00m\u001b[38;5;21;01m.\u001b[39;00m\u001b[38;5;21;01mio\u001b[39;00m\u001b[38;5;21;01m.\u001b[39;00m\u001b[38;5;21;01mapi\u001b[39;00m \u001b[38;5;28;01mimport\u001b[39;00m (\n\u001b[1;32m    142\u001b[0m     \u001b[38;5;66;03m# excel\u001b[39;00m\n\u001b[1;32m    143\u001b[0m     ExcelFile,\n\u001b[0;32m   (...)\u001b[0m\n\u001b[1;32m    171\u001b[0m     read_spss,\n\u001b[1;32m    172\u001b[0m )\n",
      "File \u001b[0;32m~/anaconda3/envs/pytorch_p310/lib/python3.10/site-packages/pandas/testing.py:6\u001b[0m\n\u001b[1;32m      1\u001b[0m \u001b[38;5;124;03m\"\"\"\u001b[39;00m\n\u001b[1;32m      2\u001b[0m \u001b[38;5;124;03mPublic testing utility functions.\u001b[39;00m\n\u001b[1;32m      3\u001b[0m \u001b[38;5;124;03m\"\"\"\u001b[39;00m\n\u001b[0;32m----> 6\u001b[0m \u001b[38;5;28;01mfrom\u001b[39;00m \u001b[38;5;21;01mpandas\u001b[39;00m\u001b[38;5;21;01m.\u001b[39;00m\u001b[38;5;21;01m_testing\u001b[39;00m \u001b[38;5;28;01mimport\u001b[39;00m (\n\u001b[1;32m      7\u001b[0m     assert_extension_array_equal,\n\u001b[1;32m      8\u001b[0m     assert_frame_equal,\n\u001b[1;32m      9\u001b[0m     assert_index_equal,\n\u001b[1;32m     10\u001b[0m     assert_series_equal,\n\u001b[1;32m     11\u001b[0m )\n\u001b[1;32m     13\u001b[0m __all__ \u001b[38;5;241m=\u001b[39m [\n\u001b[1;32m     14\u001b[0m     \u001b[38;5;124m\"\u001b[39m\u001b[38;5;124massert_extension_array_equal\u001b[39m\u001b[38;5;124m\"\u001b[39m,\n\u001b[1;32m     15\u001b[0m     \u001b[38;5;124m\"\u001b[39m\u001b[38;5;124massert_frame_equal\u001b[39m\u001b[38;5;124m\"\u001b[39m,\n\u001b[1;32m     16\u001b[0m     \u001b[38;5;124m\"\u001b[39m\u001b[38;5;124massert_series_equal\u001b[39m\u001b[38;5;124m\"\u001b[39m,\n\u001b[1;32m     17\u001b[0m     \u001b[38;5;124m\"\u001b[39m\u001b[38;5;124massert_index_equal\u001b[39m\u001b[38;5;124m\"\u001b[39m,\n\u001b[1;32m     18\u001b[0m ]\n",
      "File \u001b[0;32m~/anaconda3/envs/pytorch_p310/lib/python3.10/site-packages/pandas/_testing/__init__.py:903\u001b[0m\n\u001b[1;32m    898\u001b[0m     \u001b[38;5;28;01mimport\u001b[39;00m \u001b[38;5;21;01mpytest\u001b[39;00m\n\u001b[1;32m    900\u001b[0m     \u001b[38;5;28;01mreturn\u001b[39;00m pytest\u001b[38;5;241m.\u001b[39mraises(expected_exception, match\u001b[38;5;241m=\u001b[39m\u001b[38;5;28;01mNone\u001b[39;00m)  \u001b[38;5;66;03m# noqa: PDF010\u001b[39;00m\n\u001b[0;32m--> 903\u001b[0m cython_table \u001b[38;5;241m=\u001b[39m \u001b[43mpd\u001b[49m\u001b[38;5;241;43m.\u001b[39;49m\u001b[43mcore\u001b[49m\u001b[38;5;241m.\u001b[39mcommon\u001b[38;5;241m.\u001b[39m_cython_table\u001b[38;5;241m.\u001b[39mitems()\n\u001b[1;32m    906\u001b[0m \u001b[38;5;28;01mdef\u001b[39;00m \u001b[38;5;21mget_cython_table_params\u001b[39m(ndframe, func_names_and_expected):\n\u001b[1;32m    907\u001b[0m \u001b[38;5;250m    \u001b[39m\u001b[38;5;124;03m\"\"\"\u001b[39;00m\n\u001b[1;32m    908\u001b[0m \u001b[38;5;124;03m    Combine frame, functions from com._cython_table\u001b[39;00m\n\u001b[1;32m    909\u001b[0m \u001b[38;5;124;03m    keys and expected result.\u001b[39;00m\n\u001b[0;32m   (...)\u001b[0m\n\u001b[1;32m    921\u001b[0m \u001b[38;5;124;03m        List of three items (DataFrame, function, expected result)\u001b[39;00m\n\u001b[1;32m    922\u001b[0m \u001b[38;5;124;03m    \"\"\"\u001b[39;00m\n",
      "\u001b[0;31mAttributeError\u001b[0m: partially initialized module 'pandas' has no attribute 'core' (most likely due to a circular import)"
     ]
    }
   ],
   "source": [
    "import boto3\n",
    "import pandas as pd\n",
    "from sagemaker import get_execution_role\n",
    "\n",
    "# Correctly define your bucket name and object key\n",
    "bucket_name = 'rplace-paddington'  # Just the bucket name\n",
    "object_key = 'r-place-data/aBigOpenTeamSuper/bots_data10.csv'  # Path to the file within the bucket\n",
    "\n",
    "# Get the SageMaker execution role and create an S3 client\n",
    "role = get_execution_role()\n",
    "s3_client = boto3.client('s3')\n",
    "\n",
    "# Generate a presigned URL for the S3 object\n",
    "url = s3_client.generate_presigned_url('get_object',\n",
    "                                       Params={'Bucket': bucket_name, 'Key': object_key},\n",
    "                                       ExpiresIn=3600)\n",
    "\n",
    "# Load the CSV data into a pandas DataFrame\n",
    "data10 = pd.read_csv(url)\n"
   ]
  },
  {
   "cell_type": "code",
   "execution_count": null,
   "id": "7c940b15",
   "metadata": {},
   "outputs": [],
   "source": [
    "# Correctly define your bucket name and object key\n",
    "bucket_name = 'rplace-paddington'  # Just the bucket name\n",
    "object_key = 'r-place-data/aBigOpenTeamSuper/bots_data1.csv'  # Path to the file within the bucket\n",
    "\n",
    "# Get the SageMaker execution role and create an S3 client\n",
    "role = get_execution_role()\n",
    "s3_client = boto3.client('s3')\n",
    "\n",
    "# Generate a presigned URL for the S3 object\n",
    "url = s3_client.generate_presigned_url('get_object',\n",
    "                                       Params={'Bucket': bucket_name, 'Key': object_key},\n",
    "                                       ExpiresIn=3600)\n",
    "\n",
    "# Load the CSV data into a pandas DataFrame\n",
    "data1 = pd.read_csv(url)\n"
   ]
  },
  {
   "cell_type": "code",
   "execution_count": null,
   "id": "de8bdd9f",
   "metadata": {},
   "outputs": [],
   "source": [
    "bucket_name = 'rplace-paddington'  # Just the bucket name\n",
    "object_key = 'r-place-data/aBigOpenTeamSuper/bots_data2.csv'  # Path to the file within the bucket\n",
    "\n",
    "# Get the SageMaker execution role and create an S3 client\n",
    "role = get_execution_role()\n",
    "s3_client = boto3.client('s3')\n",
    "\n",
    "# Generate a presigned URL for the S3 object\n",
    "url = s3_client.generate_presigned_url('get_object',\n",
    "                                       Params={'Bucket': bucket_name, 'Key': object_key},\n",
    "                                       ExpiresIn=3600)\n",
    "\n",
    "# Load the CSV data into a pandas DataFrame\n",
    "data2 = pd.read_csv(url)"
   ]
  },
  {
   "cell_type": "code",
   "execution_count": null,
   "id": "5b7826b5",
   "metadata": {},
   "outputs": [],
   "source": [
    "bucket_name = 'rplace-paddington'  # Just the bucket name\n",
    "object_key = 'r-place-data/aBigOpenTeamSuper/bots_data3.csv'  # Path to the file within the bucket\n",
    "\n",
    "# Get the SageMaker execution role and create an S3 client\n",
    "role = get_execution_role()\n",
    "s3_client = boto3.client('s3')\n",
    "\n",
    "# Generate a presigned URL for the S3 object\n",
    "url = s3_client.generate_presigned_url('get_object',\n",
    "                                       Params={'Bucket': bucket_name, 'Key': object_key},\n",
    "                                       ExpiresIn=3600)\n",
    "\n",
    "# Load the CSV data into a pandas DataFrame\n",
    "data3 = pd.read_csv(url)"
   ]
  },
  {
   "cell_type": "code",
   "execution_count": null,
   "id": "1bc332da",
   "metadata": {},
   "outputs": [],
   "source": [
    "bucket_name = 'rplace-paddington'  # Just the bucket name\n",
    "object_key = 'r-place-data/aBigOpenTeamSuper/bots_data4.csv'  # Path to the file within the bucket\n",
    "\n",
    "# Get the SageMaker execution role and create an S3 client\n",
    "role = get_execution_role()\n",
    "s3_client = boto3.client('s3')\n",
    "\n",
    "# Generate a presigned URL for the S3 object\n",
    "url = s3_client.generate_presigned_url('get_object',\n",
    "                                       Params={'Bucket': bucket_name, 'Key': object_key},\n",
    "                                       ExpiresIn=3600)\n",
    "\n",
    "# Load the CSV data into a pandas DataFrame\n",
    "data4 = pd.read_csv(url)"
   ]
  },
  {
   "cell_type": "code",
   "execution_count": null,
   "id": "1be2153d",
   "metadata": {},
   "outputs": [],
   "source": [
    "bucket_name = 'rplace-paddington'  # Just the bucket name\n",
    "object_key = 'r-place-data/aBigOpenTeamSuper/bots_data5.csv'  # Path to the file within the bucket\n",
    "\n",
    "# Get the SageMaker execution role and create an S3 client\n",
    "role = get_execution_role()\n",
    "s3_client = boto3.client('s3')\n",
    "\n",
    "# Generate a presigned URL for the S3 object\n",
    "url = s3_client.generate_presigned_url('get_object',\n",
    "                                       Params={'Bucket': bucket_name, 'Key': object_key},\n",
    "                                       ExpiresIn=3600)\n",
    "\n",
    "# Load the CSV data into a pandas DataFrame\n",
    "data5 = pd.read_csv(url)"
   ]
  },
  {
   "cell_type": "code",
   "execution_count": null,
   "id": "0ec4f7ed",
   "metadata": {},
   "outputs": [],
   "source": [
    "bucket_name = 'rplace-paddington'  # Just the bucket name\n",
    "object_key = 'r-place-data/aBigOpenTeamSuper/bots_data6.csv'  # Path to the file within the bucket\n",
    "\n",
    "# Get the SageMaker execution role and create an S3 client\n",
    "role = get_execution_role()\n",
    "s3_client = boto3.client('s3')\n",
    "\n",
    "# Generate a presigned URL for the S3 object\n",
    "url = s3_client.generate_presigned_url('get_object',\n",
    "                                       Params={'Bucket': bucket_name, 'Key': object_key},\n",
    "                                       ExpiresIn=3600)\n",
    "\n",
    "# Load the CSV data into a pandas DataFrame\n",
    "data6 = pd.read_csv(url)"
   ]
  },
  {
   "cell_type": "code",
   "execution_count": null,
   "id": "c3a47003",
   "metadata": {},
   "outputs": [],
   "source": [
    "bucket_name = 'rplace-paddington'  # Just the bucket name\n",
    "object_key = 'r-place-data/aBigOpenTeamSuper/bots_data7.csv'  # Path to the file within the bucket\n",
    "\n",
    "# Get the SageMaker execution role and create an S3 client\n",
    "role = get_execution_role()\n",
    "s3_client = boto3.client('s3')\n",
    "\n",
    "# Generate a presigned URL for the S3 object\n",
    "url = s3_client.generate_presigned_url('get_object',\n",
    "                                       Params={'Bucket': bucket_name, 'Key': object_key},\n",
    "                                       ExpiresIn=3600)\n",
    "\n",
    "# Load the CSV data into a pandas DataFrame\n",
    "data7 = pd.read_csv(url)"
   ]
  },
  {
   "cell_type": "code",
   "execution_count": null,
   "id": "3a2f7120",
   "metadata": {},
   "outputs": [],
   "source": [
    "bucket_name = 'rplace-paddington'  # Just the bucket name\n",
    "object_key = 'r-place-data/aBigOpenTeamSuper/bots_data8.csv'  # Path to the file within the bucket\n",
    "\n",
    "# Get the SageMaker execution role and create an S3 client\n",
    "role = get_execution_role()\n",
    "s3_client = boto3.client('s3')\n",
    "\n",
    "# Generate a presigned URL for the S3 object\n",
    "url = s3_client.generate_presigned_url('get_object',\n",
    "                                       Params={'Bucket': bucket_name, 'Key': object_key},\n",
    "                                       ExpiresIn=3600)\n",
    "\n",
    "# Load the CSV data into a pandas DataFrame\n",
    "data8 = pd.read_csv(url)"
   ]
  },
  {
   "cell_type": "code",
   "execution_count": null,
   "id": "ebdbd5f7",
   "metadata": {},
   "outputs": [],
   "source": [
    "bucket_name = 'rplace-paddington'  # Just the bucket name\n",
    "object_key = 'r-place-data/aBigOpenTeamSuper/bots_data9.csv'  # Path to the file within the bucket\n",
    "\n",
    "# Get the SageMaker execution role and create an S3 client\n",
    "role = get_execution_role()\n",
    "s3_client = boto3.client('s3')\n",
    "\n",
    "# Generate a presigned URL for the S3 object\n",
    "url = s3_client.generate_presigned_url('get_object',\n",
    "                                       Params={'Bucket': bucket_name, 'Key': object_key},\n",
    "                                       ExpiresIn=3600)\n",
    "\n",
    "# Load the CSV data into a pandas DataFrame\n",
    "data9 = pd.read_csv(url)"
   ]
  },
  {
   "cell_type": "code",
   "execution_count": null,
   "id": "afd92259",
   "metadata": {
    "scrolled": true
   },
   "outputs": [],
   "source": [
    "import pandas as pd\n",
    "\n",
    "# Assuming data1, data2, ..., data10 are already loaded into the notebook\n",
    "\n",
    "# Concatenate data frames, keeping headers only from the first dataset\n",
    "data = pd.concat([data1] + [data.iloc[1:] for data in [data2, data3, data4, data5, data6, data7, data8, data9, data10]], ignore_index=True)\n",
    "\n",
    "# Verify the concatenated data frame\n",
    "data.head()\n",
    "\n"
   ]
  },
  {
   "cell_type": "code",
   "execution_count": 2,
   "id": "ccb5bf18",
   "metadata": {},
   "outputs": [
    {
     "ename": "NameError",
     "evalue": "name 'data' is not defined",
     "output_type": "error",
     "traceback": [
      "\u001b[0;31m---------------------------------------------------------------------------\u001b[0m",
      "\u001b[0;31mNameError\u001b[0m                                 Traceback (most recent call last)",
      "Cell \u001b[0;32mIn[2], line 2\u001b[0m\n\u001b[1;32m      1\u001b[0m stacked_bots \u001b[38;5;241m=\u001b[39m \u001b[38;5;124m'\u001b[39m\u001b[38;5;124mdata_stacked_bots.csv\u001b[39m\u001b[38;5;124m'\u001b[39m\n\u001b[0;32m----> 2\u001b[0m \u001b[43mdata\u001b[49m\u001b[38;5;241m.\u001b[39mto_csv(stacked_bots, index\u001b[38;5;241m=\u001b[39m\u001b[38;5;28;01mFalse\u001b[39;00m)\n",
      "\u001b[0;31mNameError\u001b[0m: name 'data' is not defined"
     ]
    }
   ],
   "source": [
    "stacked_bots = 'data_stacked_bots.csv'\n",
    "data.to_csv(stacked_bots, index=False)"
   ]
  },
  {
   "cell_type": "code",
   "execution_count": 5,
   "id": "bbbf0358",
   "metadata": {},
   "outputs": [
    {
     "ename": "AttributeError",
     "evalue": "partially initialized module 'pandas' has no attribute 'core' (most likely due to a circular import)",
     "output_type": "error",
     "traceback": [
      "\u001b[0;31m---------------------------------------------------------------------------\u001b[0m",
      "\u001b[0;31mAttributeError\u001b[0m                            Traceback (most recent call last)",
      "Cell \u001b[0;32mIn[5], line 1\u001b[0m\n\u001b[0;32m----> 1\u001b[0m \u001b[38;5;28;01mimport\u001b[39;00m \u001b[38;5;21;01mpandas\u001b[39;00m \u001b[38;5;28;01mas\u001b[39;00m \u001b[38;5;21;01mpd\u001b[39;00m\n\u001b[1;32m      2\u001b[0m data \u001b[38;5;241m=\u001b[39m pd\u001b[38;5;241m.\u001b[39mread_csv(\u001b[38;5;124m'\u001b[39m\u001b[38;5;124mdata_stacked_bots.csv\u001b[39m\u001b[38;5;124m'\u001b[39m)\n",
      "File \u001b[0;32m~/anaconda3/envs/pytorch_p310/lib/python3.10/site-packages/pandas/__init__.py:138\u001b[0m\n\u001b[1;32m    120\u001b[0m \u001b[38;5;28;01mfrom\u001b[39;00m \u001b[38;5;21;01mpandas\u001b[39;00m\u001b[38;5;21;01m.\u001b[39;00m\u001b[38;5;21;01mcore\u001b[39;00m\u001b[38;5;21;01m.\u001b[39;00m\u001b[38;5;21;01mreshape\u001b[39;00m\u001b[38;5;21;01m.\u001b[39;00m\u001b[38;5;21;01mapi\u001b[39;00m \u001b[38;5;28;01mimport\u001b[39;00m (\n\u001b[1;32m    121\u001b[0m     concat,\n\u001b[1;32m    122\u001b[0m     lreshape,\n\u001b[0;32m   (...)\u001b[0m\n\u001b[1;32m    134\u001b[0m     qcut,\n\u001b[1;32m    135\u001b[0m )\n\u001b[1;32m    137\u001b[0m \u001b[38;5;28;01mfrom\u001b[39;00m \u001b[38;5;21;01mpandas\u001b[39;00m \u001b[38;5;28;01mimport\u001b[39;00m api, arrays, errors, io, plotting, tseries\n\u001b[0;32m--> 138\u001b[0m \u001b[38;5;28;01mfrom\u001b[39;00m \u001b[38;5;21;01mpandas\u001b[39;00m \u001b[38;5;28;01mimport\u001b[39;00m testing  \u001b[38;5;66;03m# noqa:PDF015\u001b[39;00m\n\u001b[1;32m    139\u001b[0m \u001b[38;5;28;01mfrom\u001b[39;00m \u001b[38;5;21;01mpandas\u001b[39;00m\u001b[38;5;21;01m.\u001b[39;00m\u001b[38;5;21;01mutil\u001b[39;00m\u001b[38;5;21;01m.\u001b[39;00m\u001b[38;5;21;01m_print_versions\u001b[39;00m \u001b[38;5;28;01mimport\u001b[39;00m show_versions\n\u001b[1;32m    141\u001b[0m \u001b[38;5;28;01mfrom\u001b[39;00m \u001b[38;5;21;01mpandas\u001b[39;00m\u001b[38;5;21;01m.\u001b[39;00m\u001b[38;5;21;01mio\u001b[39;00m\u001b[38;5;21;01m.\u001b[39;00m\u001b[38;5;21;01mapi\u001b[39;00m \u001b[38;5;28;01mimport\u001b[39;00m (\n\u001b[1;32m    142\u001b[0m     \u001b[38;5;66;03m# excel\u001b[39;00m\n\u001b[1;32m    143\u001b[0m     ExcelFile,\n\u001b[0;32m   (...)\u001b[0m\n\u001b[1;32m    171\u001b[0m     read_spss,\n\u001b[1;32m    172\u001b[0m )\n",
      "File \u001b[0;32m~/anaconda3/envs/pytorch_p310/lib/python3.10/site-packages/pandas/testing.py:6\u001b[0m\n\u001b[1;32m      1\u001b[0m \u001b[38;5;124;03m\"\"\"\u001b[39;00m\n\u001b[1;32m      2\u001b[0m \u001b[38;5;124;03mPublic testing utility functions.\u001b[39;00m\n\u001b[1;32m      3\u001b[0m \u001b[38;5;124;03m\"\"\"\u001b[39;00m\n\u001b[0;32m----> 6\u001b[0m \u001b[38;5;28;01mfrom\u001b[39;00m \u001b[38;5;21;01mpandas\u001b[39;00m\u001b[38;5;21;01m.\u001b[39;00m\u001b[38;5;21;01m_testing\u001b[39;00m \u001b[38;5;28;01mimport\u001b[39;00m (\n\u001b[1;32m      7\u001b[0m     assert_extension_array_equal,\n\u001b[1;32m      8\u001b[0m     assert_frame_equal,\n\u001b[1;32m      9\u001b[0m     assert_index_equal,\n\u001b[1;32m     10\u001b[0m     assert_series_equal,\n\u001b[1;32m     11\u001b[0m )\n\u001b[1;32m     13\u001b[0m __all__ \u001b[38;5;241m=\u001b[39m [\n\u001b[1;32m     14\u001b[0m     \u001b[38;5;124m\"\u001b[39m\u001b[38;5;124massert_extension_array_equal\u001b[39m\u001b[38;5;124m\"\u001b[39m,\n\u001b[1;32m     15\u001b[0m     \u001b[38;5;124m\"\u001b[39m\u001b[38;5;124massert_frame_equal\u001b[39m\u001b[38;5;124m\"\u001b[39m,\n\u001b[1;32m     16\u001b[0m     \u001b[38;5;124m\"\u001b[39m\u001b[38;5;124massert_series_equal\u001b[39m\u001b[38;5;124m\"\u001b[39m,\n\u001b[1;32m     17\u001b[0m     \u001b[38;5;124m\"\u001b[39m\u001b[38;5;124massert_index_equal\u001b[39m\u001b[38;5;124m\"\u001b[39m,\n\u001b[1;32m     18\u001b[0m ]\n",
      "File \u001b[0;32m~/anaconda3/envs/pytorch_p310/lib/python3.10/site-packages/pandas/_testing/__init__.py:903\u001b[0m\n\u001b[1;32m    898\u001b[0m     \u001b[38;5;28;01mimport\u001b[39;00m \u001b[38;5;21;01mpytest\u001b[39;00m\n\u001b[1;32m    900\u001b[0m     \u001b[38;5;28;01mreturn\u001b[39;00m pytest\u001b[38;5;241m.\u001b[39mraises(expected_exception, match\u001b[38;5;241m=\u001b[39m\u001b[38;5;28;01mNone\u001b[39;00m)  \u001b[38;5;66;03m# noqa: PDF010\u001b[39;00m\n\u001b[0;32m--> 903\u001b[0m cython_table \u001b[38;5;241m=\u001b[39m \u001b[43mpd\u001b[49m\u001b[38;5;241;43m.\u001b[39;49m\u001b[43mcore\u001b[49m\u001b[38;5;241m.\u001b[39mcommon\u001b[38;5;241m.\u001b[39m_cython_table\u001b[38;5;241m.\u001b[39mitems()\n\u001b[1;32m    906\u001b[0m \u001b[38;5;28;01mdef\u001b[39;00m \u001b[38;5;21mget_cython_table_params\u001b[39m(ndframe, func_names_and_expected):\n\u001b[1;32m    907\u001b[0m \u001b[38;5;250m    \u001b[39m\u001b[38;5;124;03m\"\"\"\u001b[39;00m\n\u001b[1;32m    908\u001b[0m \u001b[38;5;124;03m    Combine frame, functions from com._cython_table\u001b[39;00m\n\u001b[1;32m    909\u001b[0m \u001b[38;5;124;03m    keys and expected result.\u001b[39;00m\n\u001b[0;32m   (...)\u001b[0m\n\u001b[1;32m    921\u001b[0m \u001b[38;5;124;03m        List of three items (DataFrame, function, expected result)\u001b[39;00m\n\u001b[1;32m    922\u001b[0m \u001b[38;5;124;03m    \"\"\"\u001b[39;00m\n",
      "\u001b[0;31mAttributeError\u001b[0m: partially initialized module 'pandas' has no attribute 'core' (most likely due to a circular import)"
     ]
    }
   ],
   "source": [
    "import pandas as pd\n",
    "data = pd.read_csv('data_stacked_bots.csv')"
   ]
  },
  {
   "cell_type": "code",
   "execution_count": null,
   "id": "f453c75d",
   "metadata": {
    "scrolled": true
   },
   "outputs": [],
   "source": [
    "data.info()"
   ]
  },
  {
   "cell_type": "code",
   "execution_count": null,
   "id": "5aae6cf6",
   "metadata": {},
   "outputs": [],
   "source": [
    "import pandas as pd\n",
    "from PIL import Image, ImageDraw\n",
    "\n",
    "\n",
    "df = data # Make sure to provide the correct path to your CSV file\n",
    "\n",
    "canvas_width = 3000\n",
    "canvas_height = 2000\n",
    "canvas = Image.new('RGB', (canvas_width, canvas_height), 'white')\n",
    "draw = ImageDraw.Draw(canvas)\n",
    "\n",
    "\n",
    "for index, row in df.iterrows():\n",
    "    try:\n",
    "        # Assuming 'coordinate' column contains x and y values separated by comma\n",
    "        # and removing parentheses if present\n",
    "        coordinates = row['coordinate'].strip('()').split(',')\n",
    "        if len(coordinates) == 2:\n",
    "            x, y = map(int, coordinates)\n",
    "            # Adjust the coordinates based on your canvas size if necessary\n",
    "            # ...\n",
    "\n",
    "            color = row['pixel_color']\n",
    "\n",
    "            # Draw each point on the canvas\n",
    "            draw.point((x + 1500, y + 1000), fill=color)\n",
    "        else:\n",
    "            # Ignore the row if there are not exactly two coordinates\n",
    "            continue\n",
    "    except Exception as e:\n",
    "        # Print the error and ignore the row\n",
    "        print(f\"Error at index {index}: {e}\")\n",
    "        continue\n",
    "\n",
    "canvas.save('canvas_image.png')\n"
   ]
  },
  {
   "cell_type": "code",
   "execution_count": null,
   "id": "b546e8c7",
   "metadata": {},
   "outputs": [],
   "source": [
    "import pandas as pd\n",
    "import matplotlib.pyplot as plt\n",
    "\n",
    "# Assuming 'data' is your DataFrame and it already contains 'x_coordinate', 'y_coordinate', and 'pixel_color' columns\n",
    "# If not, you'll need to run the splitting code provided in the previous response first\n",
    "\n",
    "# Plot the data\n",
    "plt.figure(figsize=(12, 9))\n",
    "plt.scatter(data['x_coordinate'], data['y_coordinate'], c=data['pixel_color'], marker='s', s=2)\n",
    "\n",
    "# Customize the plot\n",
    "plt.title('Pixel Colors at Coordinates')\n",
    "plt.xlabel('X Coordinate')\n",
    "plt.ylabel('Y Coordinate')\n",
    "plt.grid(True)\n",
    "plt.colorbar(label='Pixel Color')\n",
    "\n",
    "# Show the plot\n",
    "plt.show()\n"
   ]
  }
 ],
 "metadata": {
  "kernelspec": {
   "display_name": "conda_pytorch_p310",
   "language": "python",
   "name": "conda_pytorch_p310"
  },
  "language_info": {
   "codemirror_mode": {
    "name": "ipython",
    "version": 3
   },
   "file_extension": ".py",
   "mimetype": "text/x-python",
   "name": "python",
   "nbconvert_exporter": "python",
   "pygments_lexer": "ipython3",
   "version": "3.10.13"
  }
 },
 "nbformat": 4,
 "nbformat_minor": 5
}
